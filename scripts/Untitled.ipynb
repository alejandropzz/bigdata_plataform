{
 "cells": [
  {
   "cell_type": "code",
   "execution_count": null,
   "id": "38608f2e-a606-4bdf-9955-d6b363ffa570",
   "metadata": {},
   "outputs": [
    {
     "name": "stdout",
     "output_type": "stream",
     "text": [
      "Iniciando consumidor...\n",
      "Iniciando consumidor...\n",
      "Mensaje recibido: {'record_id': '1ab1d49c-073d-4ac6-89fe-cddb38f21d05', 'hash_id': '3ae098a29868b7b2bc170d3b5f9f5db46afbb35b3d9d9e7de30f11fa7b3c700d', 'table_name': 'transactions2', 'db_type': 'postgres', 'data': '2025-06-20', 'db_name': 'financial_db', 'timestamp_epoch': 1750484341, 'operation': 'I', 'hash_pk': '4e35d3e7ade807de6a1ab15d782d33f12f7bcc7435dc617d91137d1f4c46c78c', 'new_data': '{\"merchant_name\": \"Nelson Group\"}', 'hash_record': '50b74fc4c95dac1c9f188edab13c8f1cbe4ea14ed1cd5901d3c9e3afde9405c5'}\n"
     ]
    }
   ],
   "source": [
    "from kafka import KafkaConsumer\n",
    "import json\n",
    "\n",
    "# Configuración del consumidor\n",
    "\n",
    "print('Iniciando consumidor...')\n",
    "\n",
    "consumer = KafkaConsumer(\n",
    "    'kfk_stream_transactions2', \n",
    "    bootstrap_servers='broker-kafka:29092',\n",
    "    group_id='my-consumer-group',  # Grupo de consumidores\n",
    "    value_deserializer=lambda x: json.loads(x.decode('utf-8'))\n",
    ")\n",
    "\n",
    "print('Iniciando consumidor...')\n",
    "\n",
    "for message in consumer:\n",
    "    print(\"Mensaje recibido:\", message.value)\n"
   ]
  },
  {
   "cell_type": "code",
   "execution_count": null,
   "id": "288c9ea2-6904-4d1c-a310-db8b17f8c56d",
   "metadata": {},
   "outputs": [],
   "source": []
  }
 ],
 "metadata": {
  "kernelspec": {
   "display_name": "Python 3 (ipykernel)",
   "language": "python",
   "name": "python3"
  },
  "language_info": {
   "codemirror_mode": {
    "name": "ipython",
    "version": 3
   },
   "file_extension": ".py",
   "mimetype": "text/x-python",
   "name": "python",
   "nbconvert_exporter": "python",
   "pygments_lexer": "ipython3",
   "version": "3.11.6"
  }
 },
 "nbformat": 4,
 "nbformat_minor": 5
}
