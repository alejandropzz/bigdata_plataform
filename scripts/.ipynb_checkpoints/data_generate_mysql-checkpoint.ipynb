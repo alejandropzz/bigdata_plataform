{
 "cells": [
  {
   "cell_type": "code",
   "execution_count": 18,
   "id": "fdb6dbe3-8e7a-4eb7-a9a7-f12f1d5aeac5",
   "metadata": {},
   "outputs": [],
   "source": [
    "import faker\n",
    "import psycopg2\n",
    "from datetime import datetime\n",
    "import random\n",
    "import time"
   ]
  },
  {
   "cell_type": "code",
   "execution_count": 2,
   "id": "b6f1bc65-316c-4624-90c4-fe579ab42eaf",
   "metadata": {},
   "outputs": [],
   "source": [
    "fake = faker.Faker()\n",
    "\n",
    "def generate_transaction():\n",
    "    user = fake.simple_profile()\n",
    "\n",
    "    return {\n",
    "        \"transactionId\": fake.uuid4(),\n",
    "        \"userId\": user['username'],\n",
    "        \"timestamp\": datetime.utcnow().timestamp(),\n",
    "        \"amount\": round(random.uniform(10, 1000), 2),        \n",
    "        'city': fake.city(),\n",
    "        \"country\": fake.country(),\n",
    "        \"merchantName\": fake.company(),\n",
    "        \"paymentMethod\": random.choice(['credit_card', 'debit_card', 'online_transfer']),        \n",
    "        'affiliateId': fake.uuid4()\n",
    "    }\n",
    "\n",
    "def create_table(conn):\n",
    "    cursor = conn.cursor()\n",
    "\n",
    "    cursor.execute(\n",
    "        \"\"\"\n",
    "        CREATE TABLE IF NOT EXISTS transactions (\n",
    "            transaction_id VARCHAR(255) PRIMARY KEY,\n",
    "            user_id VARCHAR(255),\n",
    "            timestamp TIMESTAMP,\n",
    "            amount DECIMAL,\n",
    "            city VARCHAR(255),\n",
    "            country VARCHAR(255),\n",
    "            merchant_name VARCHAR(255),\n",
    "            payment_method VARCHAR(255),       \n",
    "            affiliateId VARCHAR(255)\n",
    "        )\n",
    "        \"\"\")\n",
    "\n",
    "    cursor.close()\n",
    "    conn.commit()"
   ]
  },
  {
   "cell_type": "code",
   "execution_count": 24,
   "id": "7f10f6f1-ddd2-4d98-ac66-4fae698726f1",
   "metadata": {},
   "outputs": [
    {
     "name": "stdout",
     "output_type": "stream",
     "text": [
      "{'transactionId': '10ab526e-ced4-4698-bf24-a418461bc8ca', 'userId': 'tbennett', 'timestamp': 1747133237.776707, 'amount': 393.38, 'city': 'New Courtney', 'country': 'Malaysia', 'merchantName': 'Nguyen PLC', 'paymentMethod': 'credit_card', 'affiliateId': '7f485a46-7519-4715-8299-37b78dca3235'}\n"
     ]
    }
   ],
   "source": [
    "if __name__ == \"__main__\":\n",
    "    conn = psycopg2.connect(\n",
    "        host='postgres',\n",
    "        database='financial_db',\n",
    "        user='postgres',\n",
    "        password='postgres',\n",
    "        port=5432\n",
    "    )\n",
    "\n",
    "    create_table(conn)\n",
    "\n",
    "    transaction = generate_transaction()\n",
    "    cur = conn.cursor()\n",
    "    print(transaction)\n",
    "    \n",
    "    cur.execute(\n",
    "        \"\"\"\n",
    "        INSERT INTO transactions(transaction_id, user_id, timestamp, amount, city, country, merchant_name, payment_method, affiliateId)\n",
    "        VALUES (%s,%s,%s,%s,%s,%s,%s,%s,%s)\n",
    "        \"\"\", (transaction[\"transactionId\"], transaction[\"userId\"], datetime.fromtimestamp(transaction[\"timestamp\"]).strftime('%Y-%m-%d %H:%M:%S'),\n",
    "              transaction[\"amount\"], transaction[\"city\"], transaction[\"country\"],\n",
    "              transaction[\"merchantName\"], transaction[\"paymentMethod\"],transaction[\"affiliateId\"])\n",
    "    )        \n",
    "\n",
    "    cur.close()\n",
    "    conn.commit()"
   ]
  },
  {
   "cell_type": "code",
   "execution_count": null,
   "id": "ffbe3d4a-a2e5-49a1-a71b-ca18187c2cd9",
   "metadata": {},
   "outputs": [],
   "source": []
  }
 ],
 "metadata": {
  "kernelspec": {
   "display_name": "Python 3 (ipykernel)",
   "language": "python",
   "name": "python3"
  },
  "language_info": {
   "codemirror_mode": {
    "name": "ipython",
    "version": 3
   },
   "file_extension": ".py",
   "mimetype": "text/x-python",
   "name": "python",
   "nbconvert_exporter": "python",
   "pygments_lexer": "ipython3",
   "version": "3.11.6"
  }
 },
 "nbformat": 4,
 "nbformat_minor": 5
}
