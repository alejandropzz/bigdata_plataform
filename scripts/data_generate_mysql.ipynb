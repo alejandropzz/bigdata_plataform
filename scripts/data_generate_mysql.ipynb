{
 "cells": [
  {
   "cell_type": "code",
   "execution_count": 13,
   "id": "5b890a8b-8177-448f-9fff-adce297188af",
   "metadata": {},
   "outputs": [],
   "source": [
    "import faker\n",
    "import mysql.connector  # Cambiamos psycopg2 por mysql.connector\n",
    "from datetime import datetime\n",
    "import random\n",
    "import time"
   ]
  },
  {
   "cell_type": "code",
   "execution_count": 14,
   "id": "0e120042-cd69-45e7-aa97-2d0798c70c17",
   "metadata": {},
   "outputs": [],
   "source": [
    "fake = faker.Faker()\n",
    "\n",
    "def generate_transaction():\n",
    "    user = fake.simple_profile()\n",
    "\n",
    "    return {\n",
    "        \"transactionId\": fake.uuid4(),\n",
    "        \"userId\": user['username'],\n",
    "        \"timestamp\": datetime.utcnow().timestamp(),\n",
    "        \"amount\": round(random.uniform(10, 1000), 2),        \n",
    "        'city': fake.city(),\n",
    "        \"country\": fake.country(),\n",
    "        \"merchantName\": fake.company(),\n",
    "        \"paymentMethod\": random.choice(['credit_card', 'debit_card', 'online_transfer']),        \n",
    "        'affiliateId': fake.uuid4()\n",
    "    }\n",
    "\n",
    "def create_table(conn):\n",
    "    cursor = conn.cursor()\n",
    "\n",
    "    cursor.execute(\n",
    "        \"\"\"\n",
    "        CREATE TABLE IF NOT EXISTS transactions (\n",
    "            transaction_id VARCHAR(255) PRIMARY KEY,\n",
    "            user_id VARCHAR(255),\n",
    "            timestamp TIMESTAMP,\n",
    "            amount DECIMAL(10,2),\n",
    "            city VARCHAR(255),\n",
    "            country VARCHAR(255),\n",
    "            merchant_name VARCHAR(255),\n",
    "            payment_method VARCHAR(255),       \n",
    "            affiliateId VARCHAR(255)\n",
    "        )\n",
    "        \"\"\")\n",
    "\n",
    "    cursor.close()\n",
    "    conn.commit()\n"
   ]
  },
  {
   "cell_type": "code",
   "execution_count": 22,
   "id": "87afd221-4ab8-42bf-b669-8cebc3c81d67",
   "metadata": {},
   "outputs": [
    {
     "name": "stdout",
     "output_type": "stream",
     "text": [
      "{'transactionId': '07b373f2-3d8f-4e9a-a00b-f2e1b849054f', 'userId': 'williamsdebra', 'timestamp': 1748319517.974294, 'amount': 660.42, 'city': 'South Robert', 'country': 'Moldova', 'merchantName': 'Morgan and Sons', 'paymentMethod': 'debit_card', 'affiliateId': '14b6a579-da35-44d7-879b-51319e0e76f7'}\n"
     ]
    }
   ],
   "source": [
    "if __name__ == \"__main__\":\n",
    "    conn = mysql.connector.connect(\n",
    "        host='mysql',  # Cambiamos 'postgres' por 'mysql'\n",
    "        database='test_binlog',\n",
    "        user='root',  # Usuario común en MySQL\n",
    "        password='root',  # Contraseña común en MySQL\n",
    "        port=3306  # Puerto por defecto de MySQL\n",
    "    )\n",
    "\n",
    "    create_table(conn)\n",
    "\n",
    "    transaction = generate_transaction()\n",
    "    cur = conn.cursor()\n",
    "    print(transaction)\n",
    "    \n",
    "    cur.execute(\n",
    "        \"\"\"\n",
    "        INSERT INTO transactions(transaction_id, user_id, timestamp, amount, city, country, merchant_name, payment_method, affiliateId)\n",
    "        VALUES (%s,%s,%s,%s,%s,%s,%s,%s,%s)\n",
    "        \"\"\", (transaction[\"transactionId\"], transaction[\"userId\"], datetime.fromtimestamp(transaction[\"timestamp\"]).strftime('%Y-%m-%d %H:%M:%S'),\n",
    "              transaction[\"amount\"], transaction[\"city\"], transaction[\"country\"],\n",
    "              transaction[\"merchantName\"], transaction[\"paymentMethod\"], transaction[\"affiliateId\"])\n",
    "    )        \n",
    "\n",
    "    cur.close()\n",
    "    conn.commit()"
   ]
  },
  {
   "cell_type": "code",
   "execution_count": null,
   "id": "66c42e59-f28f-43f7-adeb-5767cccd7fa2",
   "metadata": {},
   "outputs": [],
   "source": []
  }
 ],
 "metadata": {
  "kernelspec": {
   "display_name": "Python 3 (ipykernel)",
   "language": "python",
   "name": "python3"
  },
  "language_info": {
   "codemirror_mode": {
    "name": "ipython",
    "version": 3
   },
   "file_extension": ".py",
   "mimetype": "text/x-python",
   "name": "python",
   "nbconvert_exporter": "python",
   "pygments_lexer": "ipython3",
   "version": "3.11.6"
  }
 },
 "nbformat": 4,
 "nbformat_minor": 5
}
