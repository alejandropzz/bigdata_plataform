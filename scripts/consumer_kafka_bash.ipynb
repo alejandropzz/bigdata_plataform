{
 "cells": [
  {
   "cell_type": "code",
   "execution_count": null,
   "id": "cc812bf7-a726-4eff-bed3-2b023bfd0014",
   "metadata": {},
   "outputs": [
    {
     "name": "stdout",
     "output_type": "stream",
     "text": [
      "Iniciando consumidor...\n",
      "Iniciando consumidor...\n",
      "Mensaje recibido: {'record_id': '5575febc-8173-436c-bfe1-72e34d857728', 'hash_id': 'a1433f001340c9925333570f64c2f97b4e4d3e25ecaa44ebdc2080b7bd22520b', 'table_name': 'transactions', 'db_type': 'postgres', 'data': '2025-06-20', 'db_name': 'financial_db', 'timestamp_epoch': 1750484356, 'operation': 'I', 'hash_pk': '185b843c2ae9843b4e82310eec2363de6093bca152bf8f7a89eddeeac85e1871', 'new_data': '{\"city\": \"Harperville\", \"amount\": 454.78, \"country\": \"Ireland\", \"user_id\": \"anita36\", \"timestamp\": \"2025-06-21T05:39:16\", \"affiliateId\": \"dff8b42e-dfe9-429b-91ac-006b57cd6c6c\", \"merchant_name\": \"Hudson-Mills\", \"payment_method\": \"online_transfer\", \"transaction_id\": \"5575febc-8173-436c-bfe1-72e34d857728\"}', 'hash_record': '187206221c9485b1571f851f33d600e075a9ed7bace661b7f3f7d259c8fa1dca'}\n"
     ]
    }
   ],
   "source": [
    "from kafka import KafkaConsumer\n",
    "import json\n",
    "\n",
    "# Configuración del consumidor\n",
    "\n",
    "print('Iniciando consumidor...')\n",
    "\n",
    "consumer = KafkaConsumer(\n",
    "    'kfk_stream_transactions', \n",
    "    bootstrap_servers='broker-kafka:29092',\n",
    "    group_id='my-consumer-group',  # Grupo de consumidores\n",
    "    value_deserializer=lambda x: json.loads(x.decode('utf-8'))\n",
    ")\n",
    "\n",
    "print('Iniciando consumidor...')\n",
    "\n",
    "for message in consumer:\n",
    "    print(\"Mensaje recibido:\", message.value)\n"
   ]
  },
  {
   "cell_type": "code",
   "execution_count": null,
   "id": "afbbe7d1-7d18-4e14-b4b5-b8f7533555b9",
   "metadata": {},
   "outputs": [],
   "source": [
    "from kafka import KafkaConsumer\n",
    "import json\n",
    "\n",
    "# Configuración del consumidor\n",
    "\n",
    "print('Iniciando consumidor...')\n",
    "\n",
    "consumer = KafkaConsumer(\n",
    "    'kfk_stream_transactions', \n",
    "    bootstrap_servers='broker-kafka:29092',\n",
    "    group_id='my-consumer-group',  # Grupo de consumidores\n",
    "    value_deserializer=lambda x: json.loads(x.decode('utf-8'))\n",
    ")\n",
    "\n",
    "print('Iniciando consumidor...')\n",
    "\n",
    "for message in consumer:\n",
    "    print(f'Recibido: {message.value[\"valor\"]}')\n"
   ]
  },
  {
   "cell_type": "code",
   "execution_count": null,
   "id": "96c3db26-bebd-4627-a5d8-06e12dddceaa",
   "metadata": {},
   "outputs": [],
   "source": []
  }
 ],
 "metadata": {
  "kernelspec": {
   "display_name": "Python 3 (ipykernel)",
   "language": "python",
   "name": "python3"
  },
  "language_info": {
   "codemirror_mode": {
    "name": "ipython",
    "version": 3
   },
   "file_extension": ".py",
   "mimetype": "text/x-python",
   "name": "python",
   "nbconvert_exporter": "python",
   "pygments_lexer": "ipython3",
   "version": "3.11.6"
  }
 },
 "nbformat": 4,
 "nbformat_minor": 5
}
