{
  "cells": [
    {
      "cell_type": "code",
      "execution_count": null,
      "metadata": {},
      "outputs": [],
      "source": [
        "from kafka import KafkaProducer\n",
        "import json\n",
        "import random\n",
        "import time\n",
        "producer = KafkaProducer(\n",
        "    bootstrap_servers='kafka:9092',\n",
        "    value_serializer=lambda v: json.dumps(v).encode('utf-8')\n",
        ")\n",
        "print('Iniciando productor...')\n",
        "while True:\n",
        "    valor = random.randint(1, 9)\n",
        "    producer.send('cdc', {'valor': valor})\n",
        "    print(f'Enviado: {valor}')\n",
        "    time.sleep(1)\n",
        "\n"
      ]
    }
  ],
  "metadata": {
    "language_info": {
      "name": "python"
    }
  },
  "nbformat": 4,
  "nbformat_minor": 2
}
